{
  "nbformat": 4,
  "nbformat_minor": 0,
  "metadata": {
    "colab": {
      "provenance": [],
      "authorship_tag": "ABX9TyPgd97n0Yum+kD2r53R640Z",
      "include_colab_link": true
    },
    "kernelspec": {
      "name": "python3",
      "display_name": "Python 3"
    },
    "language_info": {
      "name": "python"
    }
  },
  "cells": [
    {
      "cell_type": "markdown",
      "metadata": {
        "id": "view-in-github",
        "colab_type": "text"
      },
      "source": [
        "<a href=\"https://colab.research.google.com/github/Sai1721/FashionAI_Companion/blob/main/FashionAI_Companion.ipynb\" target=\"_parent\"><img src=\"https://colab.research.google.com/assets/colab-badge.svg\" alt=\"Open In Colab\"/></a>"
      ]
    },
    {
      "cell_type": "code",
      "source": [
        "#import neccessary libraries\n",
        "import numpy as np\n",
        "from tensorflow.keras.datasets import mnist"
      ],
      "metadata": {
        "id": "yzKg81L0wlqR"
      },
      "execution_count": 35,
      "outputs": []
    },
    {
      "cell_type": "code",
      "source": [
        "# Load the MNIST dataset\n",
        "(train_images, train_labels), _ = mnist.load_data()"
      ],
      "metadata": {
        "id": "JsLVyxv3wouD"
      },
      "execution_count": 36,
      "outputs": []
    },
    {
      "cell_type": "code",
      "source": [
        "# Define fashion categories and items\n",
        "fashion_categories = {\n",
        "    0: \"T-shirt/top\",\n",
        "    1: \"Trouser\",\n",
        "    2: \"Pullover\",\n",
        "    3: \"Dress\",\n",
        "    4: \"Coat\",\n",
        "    5: \"Sandal\",\n",
        "    6: \"Shirt\",\n",
        "    7: \"Sneaker\",\n",
        "    8: \"Bag\",\n",
        "    9: \"Ankle boot\"\n",
        "}"
      ],
      "metadata": {
        "id": "1Cjhd2SgwtYt"
      },
      "execution_count": 37,
      "outputs": []
    },
    {
      "cell_type": "code",
      "source": [
        "# Map MNIST labels to fashion categories\n",
        "def map_to_fashion_category(label):\n",
        "    return fashion_categories[label]"
      ],
      "metadata": {
        "id": "wg9oUl4ZwwiR"
      },
      "execution_count": 38,
      "outputs": []
    },
    {
      "cell_type": "code",
      "source": [
        "# Define user preferences\n",
        "def get_user_preferences():\n",
        "    gender = input(\"Are you shopping for a 'male' or 'female'? \").lower()\n",
        "    temperature = input(\"Is it 'warm' or 'cold' weather? \").lower()\n",
        "    return gender, temperature"
      ],
      "metadata": {
        "id": "VhTBQdmswz1E"
      },
      "execution_count": 39,
      "outputs": []
    },
    {
      "cell_type": "code",
      "source": [
        "# Generate fashion recommendation based on user preferences and MNIST images\n",
        "def get_fashion_recommendation(images, labels):\n",
        "    recommended_items = []\n",
        "    for idx, img in enumerate(images):\n",
        "        if idx >= 3:  # Return 3 recommendations\n",
        "            break\n",
        "        recommended_items.append(map_to_fashion_category(labels[idx]))\n",
        "    return recommended_items"
      ],
      "metadata": {
        "id": "xOC2NBgNw3Qv"
      },
      "execution_count": 40,
      "outputs": []
    },
    {
      "cell_type": "code",
      "source": [
        "# Filter MNIST labels based on user preferences\n",
        "if gender == \"male\":\n",
        "    filtered_indices = [i for i, label in enumerate(train_labels) if label in [0, 1, 2, 5, 6, 7, 8, 9]]\n",
        "else:\n",
        "    filtered_indices = [i for i, label in enumerate(train_labels) if label in [0, 1, 2, 3, 4, 5, 7, 8, 9]]"
      ],
      "metadata": {
        "id": "qk3_axIuw9s8"
      },
      "execution_count": 41,
      "outputs": []
    },
    {
      "cell_type": "code",
      "source": [
        "# Get filtered MNIST images and labels\n",
        "filtered_images = train_images[filtered_indices]\n",
        "filtered_labels = train_labels[filtered_indices]"
      ],
      "metadata": {
        "id": "G8d7lYV8xA52"
      },
      "execution_count": 42,
      "outputs": []
    },
    {
      "cell_type": "code",
      "source": [
        "# Get fashion recommendations based on filtered MNIST images and labels\n",
        "recommendations = get_fashion_recommendation(filtered_images, filtered_labels)"
      ],
      "metadata": {
        "id": "Nk0AMn7WxD-w"
      },
      "execution_count": 43,
      "outputs": []
    },
    {
      "cell_type": "markdown",
      "source": [
        "**PREFERENCES**"
      ],
      "metadata": {
        "id": "x4v9FLdUx_S-"
      }
    },
    {
      "cell_type": "code",
      "source": [
        "# Get user preferences\n",
        "gender, temperature = get_user_preferences()"
      ],
      "metadata": {
        "colab": {
          "base_uri": "https://localhost:8080/"
        },
        "id": "sD0QA3Dhw6nC",
        "outputId": "f6f0e131-9944-4dae-8b77-52a3c9d493d5"
      },
      "execution_count": 44,
      "outputs": [
        {
          "name": "stdout",
          "output_type": "stream",
          "text": [
            "Are you shopping for a 'male' or 'female'? male\n",
            "Is it 'warm' or 'cold' weather? warm\n"
          ]
        }
      ]
    },
    {
      "cell_type": "markdown",
      "source": [
        "**RECOMMENDATION**"
      ],
      "metadata": {
        "id": "qbJqM6Pex4MO"
      }
    },
    {
      "cell_type": "code",
      "source": [
        "# Display the recommended fashion items\n",
        "print(\"Recommended Fashion Items:\")\n",
        "for idx, item in enumerate(recommendations, start=1):\n",
        "    print(f\"{idx}. {item}\")"
      ],
      "metadata": {
        "colab": {
          "base_uri": "https://localhost:8080/"
        },
        "id": "vmHDr03tt8os",
        "outputId": "51b59389-faca-417b-99a4-dd067ca34cf4"
      },
      "execution_count": 45,
      "outputs": [
        {
          "output_type": "stream",
          "name": "stdout",
          "text": [
            "Recommended Fashion Items:\n",
            "1. Sandal\n",
            "2. T-shirt/top\n",
            "3. Trouser\n"
          ]
        }
      ]
    }
  ]
}